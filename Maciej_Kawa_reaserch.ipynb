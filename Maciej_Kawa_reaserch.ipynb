{
 "cells": [
  {
   "cell_type": "markdown",
   "id": "5c64869d-36b3-46d6-b49b-036d1ca39e33",
   "metadata": {},
   "source": [
    "All models are made on data frame consisting of order_id, sector_id, delivery_time, total_weight, driver_id. \n",
    "\n",
    "- delivery_time is actual time of delivering order\n",
    "- total_weight is variable consisting of product of weight of package and quantity in order\n",
    "- order_id, sector_id, driver_id are identifiers of  order, sector, driver.\n",
    "\n",
    "Delivery time after deleting rows consisting of cotradictionary data like nonpositive time is positive integer. \n",
    "\n",
    "Total weight is sum of weight of invidual product in order,no additional engeneering needed, positive integer as well.\n",
    "\n",
    "None of columns have missing data."
   ]
  },
  {
   "cell_type": "markdown",
   "id": "af9a0955-364d-4061-80c6-b7aeaa80aca9",
   "metadata": {},
   "source": [
    "## 1."
   ]
  },
  {
   "cell_type": "markdown",
   "id": "e61e4c2b-93ea-423e-a5af-6b328fdc367e",
   "metadata": {},
   "source": [
    "Current predictions of delivery times for future orders is done by calculating the mean from all \n",
    "collected data This algorythm produces luckluster rusults. Proposed solution was to make diffrent predictions per sector. As seen on figure below 2nd sector and 3rd sector have simillar influence. Therefore division to three sectors does not seem beneficial enough to justify creating 3 models and lessening access to bigger pool of data for 2nd and 3rd sector. It is advisable to divide data into two parts, 1st sectors and ther others. Then creating linear regression or another regression model for each invidual part seems like the best solution to this problem."
   ]
  },
  {
   "cell_type": "markdown",
   "id": "f5a5bc07-38d9-40d1-ae3a-e65f8d58dbac",
   "metadata": {},
   "source": [
    "<img src=\"plot_7.png\" alt=\"Alternative text\" />\n"
   ]
  },
  {
   "cell_type": "markdown",
   "id": "b4524de2-c22f-497a-ac47-138b1f7bb855",
   "metadata": {},
   "source": [
    "## 2."
   ]
  },
  {
   "cell_type": "markdown",
   "id": "9aef7ee3-8f76-4ff5-833b-855e145431d2",
   "metadata": {},
   "source": [
    "I propose regession models such as:\n",
    "\n",
    "- Linear regression\n",
    "- XGBoost regression\n",
    "- Random forrest regression\n"
   ]
  },
  {
   "cell_type": "markdown",
   "id": "b0aaef4b-a7fa-4116-96e7-20ea6f920bde",
   "metadata": {},
   "source": [
    "After doing train - test split on data, each model will be fitted, cross validated and evaluated based on metrics such as R-squared, mean square error, mean absolute error. And here are the results of that process."
   ]
  },
  {
   "cell_type": "markdown",
   "id": "8dcda3ca-e7a0-478a-8a39-a9c5a4b40c51",
   "metadata": {},
   "source": [
    "|                   |   Mean Absolute Error |   Mean Squared Error |   Root Mean Squared Error |   R-squared |   Mean CV Score |   Std CV Score |\r\n",
    "|:------------------|----------------------:|---------------------:|--------------------------:|------------:|----------------:|---------------:|\r\n",
    "| Linear Regression |                 35    |              2063.18 |                     45.42 |        0.77 |         2171.16 |         185.97 |\r\n",
    "| XGBoost           |                 31.15 |              1702.25 |                     41.26 |        0.81 |         1974.9  |         308.33 |\r\n",
    "| Random Forest     |                 32.57 |              1835.59 |                     42.84 |        0.8  |         1865.7  |         243.\n",
    "\n",
    "|      |   total_weight |   sector_id |   driver_id |\r\n",
    "|:-----|---------------:|------------:|------------:|\r\n",
    "| coef |     0.00871171 |    -35.8297 |     66.1011 |1  |"
   ]
  },
  {
   "cell_type": "markdown",
   "id": "e20acfec-6e7f-49f9-9ed6-e8ba8e984bda",
   "metadata": {},
   "source": [
    "The metrics are pointing for XGBoost regressor to be the best model, because of the lowest values of errors and the biggest R-squared, but it is the most vulnerable to new data. Random forrest regressor seems to be more robust to new data while achieving simillar metrics results to XGBoost model, but both of them lack interpretability of linear regression. In my opinion slightly worse scores of linear regression are not enough to lose that interpretability of model, which could clearly show which area of delivery could lead to improving delivery times. In this case looking at the coeficient of linear regression for driver_id we can see that there is clear diffrence in delivery times fo each driver. The diffrence may be influenced by the experience of invidual driver."
   ]
  },
  {
   "cell_type": "markdown",
   "id": "923071fc-51ac-4bc6-bac0-7b13a0e8b430",
   "metadata": {},
   "source": [
    "## 3."
   ]
  },
  {
   "cell_type": "markdown",
   "id": "ae8496b6-ffe7-4a90-bc87-53232b32422b",
   "metadata": {},
   "source": [
    "\n",
    "I do believe that the low delivery times of 1st driver come down to 3 main options\n",
    "\n",
    "- there is diffrence of method of delivering package from the rest of drivers. To elaborate, the 1st driver might contact the client beforehand and direct the more accurate time of delivery. By doing so driver increses prepardness of client for receiving a delivery. Due to that time for delivery can drastically shorten.\n",
    "- familarity with the sector, the time losses could accumulate easly if driver is not accustomed to delivery sector.\n",
    "- experience, both of above reasons are influenced by the time the drivers put into work.."
   ]
  },
  {
   "cell_type": "markdown",
   "id": "797533af-1dda-4c11-afd5-eac5d3981963",
   "metadata": {},
   "source": [
    "## 4."
   ]
  },
  {
   "cell_type": "markdown",
   "id": "93636f3d-dce2-4432-8444-7962bde0d65f",
   "metadata": {},
   "source": [
    "Additional data worth collecting could be:\n",
    "\n",
    "- information about experience of driver\n",
    "- rating of drivers\n",
    "- data on traffic patterns"
   ]
  },
  {
   "cell_type": "markdown",
   "id": "91d93292-5b5d-49af-a736-b60c7fdfd6a4",
   "metadata": {},
   "source": [
    "## 5"
   ]
  },
  {
   "cell_type": "markdown",
   "id": "686f9296-5d99-400d-bdbd-50e30c4b686f",
   "metadata": {},
   "source": [
    "First of all under-estimating will lead to customer disatisfaction and could influence badly reputation of brand. No customer wants to wait for their food after the declared time.\n",
    "\n",
    "On the other hand, over-estimating will lead to underutilization of resources such as delivery personnel and vehicles, giving higher operational costs and reduced profitability."
   ]
  }
 ],
 "metadata": {
  "kernelspec": {
   "display_name": "Python 3 (ipykernel)",
   "language": "python",
   "name": "python3"
  },
  "language_info": {
   "codemirror_mode": {
    "name": "ipython",
    "version": 3
   },
   "file_extension": ".py",
   "mimetype": "text/x-python",
   "name": "python",
   "nbconvert_exporter": "python",
   "pygments_lexer": "ipython3",
   "version": "3.11.7"
  }
 },
 "nbformat": 4,
 "nbformat_minor": 5
}
