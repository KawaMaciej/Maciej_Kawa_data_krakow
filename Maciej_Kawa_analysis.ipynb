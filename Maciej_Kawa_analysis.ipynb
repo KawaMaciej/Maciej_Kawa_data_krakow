{
 "cells": [
  {
   "cell_type": "markdown",
   "id": "00f0d2c7-620e-42f0-aa5b-ea92ece74e2d",
   "metadata": {
    "jp-MarkdownHeadingCollapsed": true
   },
   "source": [
    "## 1."
   ]
  },
  {
   "cell_type": "markdown",
   "id": "26c4abfd-665d-44ca-8747-a311852072b3",
   "metadata": {},
   "source": [
    "Data comes from table **route segments** with the selection of only rows where actual delivery times can be derived from. \n",
    "Some rows where omitted because of starting time being later than ending times which results in negative delivery time, also delivery times that were equal to 0 were also omitted. That error could be explained by GPS module losing signal and therefore producing outputs that were recorded before losing connection.\n"
   ]
  },
  {
   "cell_type": "markdown",
   "id": "571a99a0-ce98-4134-88d1-d3d1c021bfd7",
   "metadata": {},
   "source": [
    "<img src=\"plot_1.png\" alt=\"Alternative text\" />\r\n",
    "\n"
   ]
  },
  {
   "cell_type": "markdown",
   "id": "61a0453a-3a5c-41c2-9158-9f9577d2a660",
   "metadata": {},
   "source": [
    "**Hisrtogram of all deliveries** can be divided into two that will show two diffrent distribution of length of deliveries.\n",
    "\n",
    "From the **Histogram of short deliveries** can be derived information that aproximetly 90\\% of deliveries are shorter than 5 minutes.\n",
    "\n",
    "The **Histogram of long deliveries** can be treated as outliers because of the low quantity of long deliveries in overall deliveries. Also this histogram points out a posibiilty of existence of longer routes. \n",
    "\n"
   ]
  },
  {
   "cell_type": "markdown",
   "id": "6265a43d-3f60-466e-ba60-b57ef217e8ee",
   "metadata": {
    "jp-MarkdownHeadingCollapsed": true
   },
   "source": [
    "## 2."
   ]
  },
  {
   "cell_type": "markdown",
   "id": "f1e3efa0-d001-44a7-88b3-630e8d8bbce2",
   "metadata": {},
   "source": [
    "Data was created using two tables **orders** and **route_segemnts**, then added additional column with the actual time of deliveries. Errors where calculated as a diffrence of actual times deliveries and plannded time of deliveries in seconds."
   ]
  },
  {
   "cell_type": "markdown",
   "id": "874246e5-2a9b-467b-8bf4-96d4370049c3",
   "metadata": {},
   "source": [
    "<img src=\"plot_2.png\" alt=\"Alternative text\" />\n"
   ]
  },
  {
   "cell_type": "markdown",
   "id": "0580d1ac-6afe-4001-9fb4-9ae5ec0d3613",
   "metadata": {},
   "source": [
    "The impact of outliers can be visable as well on this chart. Because of that splitting errors by significance in data is recomended. Most of errors are lower than 200 and mean error without outliers is about 87.11, which means that planned prediction will on average be mistaken by over a 1:27 minutes.  "
   ]
  },
  {
   "cell_type": "markdown",
   "id": "1ea2deae-7855-4336-a983-3aade589cefd",
   "metadata": {
    "jp-MarkdownHeadingCollapsed": true
   },
   "source": [
    "## 3."
   ]
  },
  {
   "cell_type": "markdown",
   "id": "8d17f9bb-61f6-4687-919c-4f7650707d3a",
   "metadata": {},
   "source": [
    "Data is the same as used in 2nd, omitted negative and zero delivery times. The plots are backing the hypothesis that 1st sector has the biggest average delivery times, also visable is impact of outliers on average delivery times. Between two plots distribution by sector is visable to be the lowest for 1st sector and bigger for the other sectors, and indeed that distribution can be expressed as a vector (0.25, 0.375, 0.375). The hypothesis can also be seen to be possible looking at diffrences between mean values."
   ]
  },
  {
   "cell_type": "markdown",
   "id": "3439dfd8-a9d0-4f73-ba7d-3c5359ea009a",
   "metadata": {},
   "source": [
    "<img src=\"plot_3.png\" alt=\"Alternative text\" />\n",
    "<img src=\"plot_4.png\" alt=\"Alternative text\" />"
   ]
  },
  {
   "cell_type": "markdown",
   "id": "05e905ee-9c85-48a7-bf22-2aaee66769c9",
   "metadata": {
    "jp-MarkdownHeadingCollapsed": true
   },
   "source": [
    "## 4."
   ]
  },
  {
   "cell_type": "markdown",
   "id": "585a5648-5dcd-4786-87af-498f272f6636",
   "metadata": {},
   "source": [
    "<img src=\"plot_5.png\" alt=\"Alternative text\" />\n"
   ]
  },
  {
   "cell_type": "markdown",
   "id": "f3f16a41-c47a-4db0-a9fa-57da3ff251d0",
   "metadata": {},
   "source": [
    "Linearity of delivery time and weight, gives us better predictive power of delivery time but this data has very weak linearity. Going by the sector from 1st to 3rd we can see that data becomes more like straight line, but it is far from perfect. On subject of both weight and sector we can say that both at most weakly influence prediction. "
   ]
  },
  {
   "cell_type": "markdown",
   "id": "40ca20ea-7cb8-4da8-bcef-15c4c73abf4a",
   "metadata": {},
   "source": [
    "<img src=\"plot_6.png\" alt=\"Alternative text\" />\n"
   ]
  },
  {
   "cell_type": "markdown",
   "id": "69154129-f717-4764-9652-3bd1d10a527c",
   "metadata": {},
   "source": [
    "This boxplot shows basics statistics such as median, mean, standard deviation, IQR for each of drivers. It can be clearly seen that delivery time highy depends on what driver is conducting delivery. 1st driver makes the quickest deliveries and his time deviate the least.Therefore predictive power of variable is the strongest of all variables taken into account."
   ]
  }
 ],
 "metadata": {
  "kernelspec": {
   "display_name": "Python 3 (ipykernel)",
   "language": "python",
   "name": "python3"
  },
  "language_info": {
   "codemirror_mode": {
    "name": "ipython",
    "version": 3
   },
   "file_extension": ".py",
   "mimetype": "text/x-python",
   "name": "python",
   "nbconvert_exporter": "python",
   "pygments_lexer": "ipython3",
   "version": "3.11.7"
  }
 },
 "nbformat": 4,
 "nbformat_minor": 5
}
